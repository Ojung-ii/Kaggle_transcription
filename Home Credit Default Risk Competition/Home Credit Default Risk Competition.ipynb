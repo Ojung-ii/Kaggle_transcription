{
 "cells": [
  {
   "cell_type": "markdown",
   "id": "efe87fd3",
   "metadata": {},
   "source": [
    "# Imports\n",
    "numpy, pandas, sklearn, matplotlib을 사용할 것이다."
   ]
  },
  {
   "cell_type": "code",
   "execution_count": 51,
   "id": "546fd741",
   "metadata": {},
   "outputs": [
    {
     "data": {
      "text/plain": [
       "<bound method Kernel.raw_input of <ipykernel.ipkernel.IPythonKernel object at 0x7fd1108246a0>>"
      ]
     },
     "execution_count": 51,
     "metadata": {},
     "output_type": "execute_result"
    }
   ],
   "source": [
    "#numpy and pandas for data manipulation\n",
    "import numpy as np\n",
    "import pandas as pd\n",
    "\n",
    "# sklearn preprocessing : 범주형 변수를 다루기 위함\n",
    "from sklearn.preprocessing import LabelEncoder\n",
    "\n",
    "# File system management\n",
    "import os\n",
    "\n",
    "# 에러 억제\n",
    "import warnings\n",
    "warnings.filterwarnings('ignore')\n",
    "\n",
    "# 시각화 모듈 임포트 : 매트플립과 시본\n",
    "import matplotlib.pyplot as plt\n",
    "import seaborn as sns\n",
    "input"
   ]
  },
  {
   "cell_type": "markdown",
   "id": "f9a0365b",
   "metadata": {},
   "source": [
    "# 데이터 불러와 읽기\n",
    "우선, 우리는 데이터 파일들을 이용이 가능하게 가져올 수 있다. 총 9개의 파일인데, 1개의 훈련세트, 1개의 테스트 세트, 1개의  제출 파일, 6개의 추가정보 파일이 있다."
   ]
  },
  {
   "cell_type": "code",
   "execution_count": 52,
   "id": "7bad50ce",
   "metadata": {},
   "outputs": [
    {
     "name": "stdout",
     "output_type": "stream",
     "text": [
      "['application_test.csv', 'HomeCredit_columns_description.csv', 'POS_CASH_balance.csv', 'credit_card_balance.csv', 'installments_payments.csv', 'application_train.csv', 'bureau.csv', 'previous_application.csv', 'bureau_balance.csv', 'sample_submission.csv']\n"
     ]
    }
   ],
   "source": [
    "# 가능한 파일 목록\n",
    "print(os.listdir('home-credit-default-risk'))"
   ]
  },
  {
   "cell_type": "code",
   "execution_count": 53,
   "id": "d075b64f",
   "metadata": {},
   "outputs": [
    {
     "name": "stdout",
     "output_type": "stream",
     "text": [
      "Training data shape:  (307511, 122)\n"
     ]
    },
    {
     "data": {
      "text/html": [
       "<div>\n",
       "<style scoped>\n",
       "    .dataframe tbody tr th:only-of-type {\n",
       "        vertical-align: middle;\n",
       "    }\n",
       "\n",
       "    .dataframe tbody tr th {\n",
       "        vertical-align: top;\n",
       "    }\n",
       "\n",
       "    .dataframe thead th {\n",
       "        text-align: right;\n",
       "    }\n",
       "</style>\n",
       "<table border=\"1\" class=\"dataframe\">\n",
       "  <thead>\n",
       "    <tr style=\"text-align: right;\">\n",
       "      <th></th>\n",
       "      <th>SK_ID_CURR</th>\n",
       "      <th>TARGET</th>\n",
       "      <th>NAME_CONTRACT_TYPE</th>\n",
       "      <th>CODE_GENDER</th>\n",
       "      <th>FLAG_OWN_CAR</th>\n",
       "      <th>FLAG_OWN_REALTY</th>\n",
       "      <th>CNT_CHILDREN</th>\n",
       "      <th>AMT_INCOME_TOTAL</th>\n",
       "      <th>AMT_CREDIT</th>\n",
       "      <th>AMT_ANNUITY</th>\n",
       "      <th>...</th>\n",
       "      <th>FLAG_DOCUMENT_18</th>\n",
       "      <th>FLAG_DOCUMENT_19</th>\n",
       "      <th>FLAG_DOCUMENT_20</th>\n",
       "      <th>FLAG_DOCUMENT_21</th>\n",
       "      <th>AMT_REQ_CREDIT_BUREAU_HOUR</th>\n",
       "      <th>AMT_REQ_CREDIT_BUREAU_DAY</th>\n",
       "      <th>AMT_REQ_CREDIT_BUREAU_WEEK</th>\n",
       "      <th>AMT_REQ_CREDIT_BUREAU_MON</th>\n",
       "      <th>AMT_REQ_CREDIT_BUREAU_QRT</th>\n",
       "      <th>AMT_REQ_CREDIT_BUREAU_YEAR</th>\n",
       "    </tr>\n",
       "  </thead>\n",
       "  <tbody>\n",
       "    <tr>\n",
       "      <th>0</th>\n",
       "      <td>100002</td>\n",
       "      <td>1</td>\n",
       "      <td>Cash loans</td>\n",
       "      <td>M</td>\n",
       "      <td>N</td>\n",
       "      <td>Y</td>\n",
       "      <td>0</td>\n",
       "      <td>202500.0</td>\n",
       "      <td>406597.5</td>\n",
       "      <td>24700.5</td>\n",
       "      <td>...</td>\n",
       "      <td>0</td>\n",
       "      <td>0</td>\n",
       "      <td>0</td>\n",
       "      <td>0</td>\n",
       "      <td>0.0</td>\n",
       "      <td>0.0</td>\n",
       "      <td>0.0</td>\n",
       "      <td>0.0</td>\n",
       "      <td>0.0</td>\n",
       "      <td>1.0</td>\n",
       "    </tr>\n",
       "    <tr>\n",
       "      <th>1</th>\n",
       "      <td>100003</td>\n",
       "      <td>0</td>\n",
       "      <td>Cash loans</td>\n",
       "      <td>F</td>\n",
       "      <td>N</td>\n",
       "      <td>N</td>\n",
       "      <td>0</td>\n",
       "      <td>270000.0</td>\n",
       "      <td>1293502.5</td>\n",
       "      <td>35698.5</td>\n",
       "      <td>...</td>\n",
       "      <td>0</td>\n",
       "      <td>0</td>\n",
       "      <td>0</td>\n",
       "      <td>0</td>\n",
       "      <td>0.0</td>\n",
       "      <td>0.0</td>\n",
       "      <td>0.0</td>\n",
       "      <td>0.0</td>\n",
       "      <td>0.0</td>\n",
       "      <td>0.0</td>\n",
       "    </tr>\n",
       "    <tr>\n",
       "      <th>2</th>\n",
       "      <td>100004</td>\n",
       "      <td>0</td>\n",
       "      <td>Revolving loans</td>\n",
       "      <td>M</td>\n",
       "      <td>Y</td>\n",
       "      <td>Y</td>\n",
       "      <td>0</td>\n",
       "      <td>67500.0</td>\n",
       "      <td>135000.0</td>\n",
       "      <td>6750.0</td>\n",
       "      <td>...</td>\n",
       "      <td>0</td>\n",
       "      <td>0</td>\n",
       "      <td>0</td>\n",
       "      <td>0</td>\n",
       "      <td>0.0</td>\n",
       "      <td>0.0</td>\n",
       "      <td>0.0</td>\n",
       "      <td>0.0</td>\n",
       "      <td>0.0</td>\n",
       "      <td>0.0</td>\n",
       "    </tr>\n",
       "    <tr>\n",
       "      <th>3</th>\n",
       "      <td>100006</td>\n",
       "      <td>0</td>\n",
       "      <td>Cash loans</td>\n",
       "      <td>F</td>\n",
       "      <td>N</td>\n",
       "      <td>Y</td>\n",
       "      <td>0</td>\n",
       "      <td>135000.0</td>\n",
       "      <td>312682.5</td>\n",
       "      <td>29686.5</td>\n",
       "      <td>...</td>\n",
       "      <td>0</td>\n",
       "      <td>0</td>\n",
       "      <td>0</td>\n",
       "      <td>0</td>\n",
       "      <td>NaN</td>\n",
       "      <td>NaN</td>\n",
       "      <td>NaN</td>\n",
       "      <td>NaN</td>\n",
       "      <td>NaN</td>\n",
       "      <td>NaN</td>\n",
       "    </tr>\n",
       "    <tr>\n",
       "      <th>4</th>\n",
       "      <td>100007</td>\n",
       "      <td>0</td>\n",
       "      <td>Cash loans</td>\n",
       "      <td>M</td>\n",
       "      <td>N</td>\n",
       "      <td>Y</td>\n",
       "      <td>0</td>\n",
       "      <td>121500.0</td>\n",
       "      <td>513000.0</td>\n",
       "      <td>21865.5</td>\n",
       "      <td>...</td>\n",
       "      <td>0</td>\n",
       "      <td>0</td>\n",
       "      <td>0</td>\n",
       "      <td>0</td>\n",
       "      <td>0.0</td>\n",
       "      <td>0.0</td>\n",
       "      <td>0.0</td>\n",
       "      <td>0.0</td>\n",
       "      <td>0.0</td>\n",
       "      <td>0.0</td>\n",
       "    </tr>\n",
       "  </tbody>\n",
       "</table>\n",
       "<p>5 rows × 122 columns</p>\n",
       "</div>"
      ],
      "text/plain": [
       "   SK_ID_CURR  TARGET NAME_CONTRACT_TYPE CODE_GENDER FLAG_OWN_CAR  \\\n",
       "0      100002       1         Cash loans           M            N   \n",
       "1      100003       0         Cash loans           F            N   \n",
       "2      100004       0    Revolving loans           M            Y   \n",
       "3      100006       0         Cash loans           F            N   \n",
       "4      100007       0         Cash loans           M            N   \n",
       "\n",
       "  FLAG_OWN_REALTY  CNT_CHILDREN  AMT_INCOME_TOTAL  AMT_CREDIT  AMT_ANNUITY  \\\n",
       "0               Y             0          202500.0    406597.5      24700.5   \n",
       "1               N             0          270000.0   1293502.5      35698.5   \n",
       "2               Y             0           67500.0    135000.0       6750.0   \n",
       "3               Y             0          135000.0    312682.5      29686.5   \n",
       "4               Y             0          121500.0    513000.0      21865.5   \n",
       "\n",
       "   ...  FLAG_DOCUMENT_18 FLAG_DOCUMENT_19 FLAG_DOCUMENT_20 FLAG_DOCUMENT_21  \\\n",
       "0  ...                 0                0                0                0   \n",
       "1  ...                 0                0                0                0   \n",
       "2  ...                 0                0                0                0   \n",
       "3  ...                 0                0                0                0   \n",
       "4  ...                 0                0                0                0   \n",
       "\n",
       "  AMT_REQ_CREDIT_BUREAU_HOUR AMT_REQ_CREDIT_BUREAU_DAY  \\\n",
       "0                        0.0                       0.0   \n",
       "1                        0.0                       0.0   \n",
       "2                        0.0                       0.0   \n",
       "3                        NaN                       NaN   \n",
       "4                        0.0                       0.0   \n",
       "\n",
       "   AMT_REQ_CREDIT_BUREAU_WEEK  AMT_REQ_CREDIT_BUREAU_MON  \\\n",
       "0                         0.0                        0.0   \n",
       "1                         0.0                        0.0   \n",
       "2                         0.0                        0.0   \n",
       "3                         NaN                        NaN   \n",
       "4                         0.0                        0.0   \n",
       "\n",
       "   AMT_REQ_CREDIT_BUREAU_QRT  AMT_REQ_CREDIT_BUREAU_YEAR  \n",
       "0                        0.0                         1.0  \n",
       "1                        0.0                         0.0  \n",
       "2                        0.0                         0.0  \n",
       "3                        NaN                         NaN  \n",
       "4                        0.0                         0.0  \n",
       "\n",
       "[5 rows x 122 columns]"
      ]
     },
     "execution_count": 53,
     "metadata": {},
     "output_type": "execute_result"
    }
   ],
   "source": [
    "# Training data\n",
    "app_train = pd.read_csv('home-credit-default-risk/application_train.csv')\n",
    "print('Training data shape: ', app_train.shape)\n",
    "app_train.head()"
   ]
  },
  {
   "cell_type": "markdown",
   "id": "d32037e1",
   "metadata": {},
   "source": [
    "훈련데이터는 307511개가 있고 타켓피처를 포함한 122개의 피처가 있다."
   ]
  },
  {
   "cell_type": "code",
   "execution_count": 54,
   "id": "a7985b31",
   "metadata": {},
   "outputs": [
    {
     "name": "stdout",
     "output_type": "stream",
     "text": [
      "Testing data shape :  (48744, 121)\n"
     ]
    },
    {
     "data": {
      "text/html": [
       "<div>\n",
       "<style scoped>\n",
       "    .dataframe tbody tr th:only-of-type {\n",
       "        vertical-align: middle;\n",
       "    }\n",
       "\n",
       "    .dataframe tbody tr th {\n",
       "        vertical-align: top;\n",
       "    }\n",
       "\n",
       "    .dataframe thead th {\n",
       "        text-align: right;\n",
       "    }\n",
       "</style>\n",
       "<table border=\"1\" class=\"dataframe\">\n",
       "  <thead>\n",
       "    <tr style=\"text-align: right;\">\n",
       "      <th></th>\n",
       "      <th>SK_ID_CURR</th>\n",
       "      <th>NAME_CONTRACT_TYPE</th>\n",
       "      <th>CODE_GENDER</th>\n",
       "      <th>FLAG_OWN_CAR</th>\n",
       "      <th>FLAG_OWN_REALTY</th>\n",
       "      <th>CNT_CHILDREN</th>\n",
       "      <th>AMT_INCOME_TOTAL</th>\n",
       "      <th>AMT_CREDIT</th>\n",
       "      <th>AMT_ANNUITY</th>\n",
       "      <th>AMT_GOODS_PRICE</th>\n",
       "      <th>...</th>\n",
       "      <th>FLAG_DOCUMENT_18</th>\n",
       "      <th>FLAG_DOCUMENT_19</th>\n",
       "      <th>FLAG_DOCUMENT_20</th>\n",
       "      <th>FLAG_DOCUMENT_21</th>\n",
       "      <th>AMT_REQ_CREDIT_BUREAU_HOUR</th>\n",
       "      <th>AMT_REQ_CREDIT_BUREAU_DAY</th>\n",
       "      <th>AMT_REQ_CREDIT_BUREAU_WEEK</th>\n",
       "      <th>AMT_REQ_CREDIT_BUREAU_MON</th>\n",
       "      <th>AMT_REQ_CREDIT_BUREAU_QRT</th>\n",
       "      <th>AMT_REQ_CREDIT_BUREAU_YEAR</th>\n",
       "    </tr>\n",
       "  </thead>\n",
       "  <tbody>\n",
       "    <tr>\n",
       "      <th>0</th>\n",
       "      <td>100001</td>\n",
       "      <td>Cash loans</td>\n",
       "      <td>F</td>\n",
       "      <td>N</td>\n",
       "      <td>Y</td>\n",
       "      <td>0</td>\n",
       "      <td>135000.0</td>\n",
       "      <td>568800.0</td>\n",
       "      <td>20560.5</td>\n",
       "      <td>450000.0</td>\n",
       "      <td>...</td>\n",
       "      <td>0</td>\n",
       "      <td>0</td>\n",
       "      <td>0</td>\n",
       "      <td>0</td>\n",
       "      <td>0.0</td>\n",
       "      <td>0.0</td>\n",
       "      <td>0.0</td>\n",
       "      <td>0.0</td>\n",
       "      <td>0.0</td>\n",
       "      <td>0.0</td>\n",
       "    </tr>\n",
       "    <tr>\n",
       "      <th>1</th>\n",
       "      <td>100005</td>\n",
       "      <td>Cash loans</td>\n",
       "      <td>M</td>\n",
       "      <td>N</td>\n",
       "      <td>Y</td>\n",
       "      <td>0</td>\n",
       "      <td>99000.0</td>\n",
       "      <td>222768.0</td>\n",
       "      <td>17370.0</td>\n",
       "      <td>180000.0</td>\n",
       "      <td>...</td>\n",
       "      <td>0</td>\n",
       "      <td>0</td>\n",
       "      <td>0</td>\n",
       "      <td>0</td>\n",
       "      <td>0.0</td>\n",
       "      <td>0.0</td>\n",
       "      <td>0.0</td>\n",
       "      <td>0.0</td>\n",
       "      <td>0.0</td>\n",
       "      <td>3.0</td>\n",
       "    </tr>\n",
       "    <tr>\n",
       "      <th>2</th>\n",
       "      <td>100013</td>\n",
       "      <td>Cash loans</td>\n",
       "      <td>M</td>\n",
       "      <td>Y</td>\n",
       "      <td>Y</td>\n",
       "      <td>0</td>\n",
       "      <td>202500.0</td>\n",
       "      <td>663264.0</td>\n",
       "      <td>69777.0</td>\n",
       "      <td>630000.0</td>\n",
       "      <td>...</td>\n",
       "      <td>0</td>\n",
       "      <td>0</td>\n",
       "      <td>0</td>\n",
       "      <td>0</td>\n",
       "      <td>0.0</td>\n",
       "      <td>0.0</td>\n",
       "      <td>0.0</td>\n",
       "      <td>0.0</td>\n",
       "      <td>1.0</td>\n",
       "      <td>4.0</td>\n",
       "    </tr>\n",
       "    <tr>\n",
       "      <th>3</th>\n",
       "      <td>100028</td>\n",
       "      <td>Cash loans</td>\n",
       "      <td>F</td>\n",
       "      <td>N</td>\n",
       "      <td>Y</td>\n",
       "      <td>2</td>\n",
       "      <td>315000.0</td>\n",
       "      <td>1575000.0</td>\n",
       "      <td>49018.5</td>\n",
       "      <td>1575000.0</td>\n",
       "      <td>...</td>\n",
       "      <td>0</td>\n",
       "      <td>0</td>\n",
       "      <td>0</td>\n",
       "      <td>0</td>\n",
       "      <td>0.0</td>\n",
       "      <td>0.0</td>\n",
       "      <td>0.0</td>\n",
       "      <td>0.0</td>\n",
       "      <td>0.0</td>\n",
       "      <td>3.0</td>\n",
       "    </tr>\n",
       "    <tr>\n",
       "      <th>4</th>\n",
       "      <td>100038</td>\n",
       "      <td>Cash loans</td>\n",
       "      <td>M</td>\n",
       "      <td>Y</td>\n",
       "      <td>N</td>\n",
       "      <td>1</td>\n",
       "      <td>180000.0</td>\n",
       "      <td>625500.0</td>\n",
       "      <td>32067.0</td>\n",
       "      <td>625500.0</td>\n",
       "      <td>...</td>\n",
       "      <td>0</td>\n",
       "      <td>0</td>\n",
       "      <td>0</td>\n",
       "      <td>0</td>\n",
       "      <td>NaN</td>\n",
       "      <td>NaN</td>\n",
       "      <td>NaN</td>\n",
       "      <td>NaN</td>\n",
       "      <td>NaN</td>\n",
       "      <td>NaN</td>\n",
       "    </tr>\n",
       "  </tbody>\n",
       "</table>\n",
       "<p>5 rows × 121 columns</p>\n",
       "</div>"
      ],
      "text/plain": [
       "   SK_ID_CURR NAME_CONTRACT_TYPE CODE_GENDER FLAG_OWN_CAR FLAG_OWN_REALTY  \\\n",
       "0      100001         Cash loans           F            N               Y   \n",
       "1      100005         Cash loans           M            N               Y   \n",
       "2      100013         Cash loans           M            Y               Y   \n",
       "3      100028         Cash loans           F            N               Y   \n",
       "4      100038         Cash loans           M            Y               N   \n",
       "\n",
       "   CNT_CHILDREN  AMT_INCOME_TOTAL  AMT_CREDIT  AMT_ANNUITY  AMT_GOODS_PRICE  \\\n",
       "0             0          135000.0    568800.0      20560.5         450000.0   \n",
       "1             0           99000.0    222768.0      17370.0         180000.0   \n",
       "2             0          202500.0    663264.0      69777.0         630000.0   \n",
       "3             2          315000.0   1575000.0      49018.5        1575000.0   \n",
       "4             1          180000.0    625500.0      32067.0         625500.0   \n",
       "\n",
       "   ... FLAG_DOCUMENT_18 FLAG_DOCUMENT_19 FLAG_DOCUMENT_20 FLAG_DOCUMENT_21  \\\n",
       "0  ...                0                0                0                0   \n",
       "1  ...                0                0                0                0   \n",
       "2  ...                0                0                0                0   \n",
       "3  ...                0                0                0                0   \n",
       "4  ...                0                0                0                0   \n",
       "\n",
       "  AMT_REQ_CREDIT_BUREAU_HOUR  AMT_REQ_CREDIT_BUREAU_DAY  \\\n",
       "0                        0.0                        0.0   \n",
       "1                        0.0                        0.0   \n",
       "2                        0.0                        0.0   \n",
       "3                        0.0                        0.0   \n",
       "4                        NaN                        NaN   \n",
       "\n",
       "   AMT_REQ_CREDIT_BUREAU_WEEK  AMT_REQ_CREDIT_BUREAU_MON  \\\n",
       "0                         0.0                        0.0   \n",
       "1                         0.0                        0.0   \n",
       "2                         0.0                        0.0   \n",
       "3                         0.0                        0.0   \n",
       "4                         NaN                        NaN   \n",
       "\n",
       "   AMT_REQ_CREDIT_BUREAU_QRT  AMT_REQ_CREDIT_BUREAU_YEAR  \n",
       "0                        0.0                         0.0  \n",
       "1                        0.0                         3.0  \n",
       "2                        1.0                         4.0  \n",
       "3                        0.0                         3.0  \n",
       "4                        NaN                         NaN  \n",
       "\n",
       "[5 rows x 121 columns]"
      ]
     },
     "execution_count": 54,
     "metadata": {},
     "output_type": "execute_result"
    }
   ],
   "source": [
    "#Testing data features\n",
    "app_test = pd.read_csv('home-credit-default-risk/application_test.csv')\n",
    "print('Testing data shape : ', app_test.shape)\n",
    "app_test.head()"
   ]
  },
  {
   "cell_type": "markdown",
   "id": "617d8e35",
   "metadata": {},
   "source": [
    "테스트 셋은 상당히 더 작고 타켓 컬럼을 포함하지 않는다."
   ]
  },
  {
   "cell_type": "markdown",
   "id": "c529ceb7",
   "metadata": {},
   "source": [
    "# Exploratory Datat Analysis\n",
    "EDA는 우리가 수리통계를 계산하거나 데이터안에서 경향,변칙,패턴 그리고 관계 등에 대한 피겨를 만드는 과정을 말한다. EDA의 목적은 우리의 데이터가 우리에게 뭘 말할 수 있을 까는 배우는 것이다. 이것은 일반적으로 높은 수준의 overview로 시작해서 우리가 특이점을 찾은 세부부분으로 간다. 우리가 찾은 것은 우리를 흥미롭게 할 수도 이쏙, 우리가 어떤 모델을 선택할지 알려주고, 우리가 어떤 피처를 사용할지를 결정하는 것에 도움을 준다. "
   ]
  },
  {
   "cell_type": "markdown",
   "id": "16a4d5ee",
   "metadata": {},
   "source": [
    "## Examine the Distribution of the Target Column\n",
    "우리가 예측해야하는 타겟 : 대출에 대한 0은 제 시간에 상환되었거나, 고객이 지불에 어려움을 겪었음을 나타내는 1이다.\n",
    "    우리는 먼저 각 범주에 속하는 대출의 수를 조사할 수 있다."
   ]
  },
  {
   "cell_type": "code",
   "execution_count": 55,
   "id": "4948785e",
   "metadata": {},
   "outputs": [
    {
     "data": {
      "text/plain": [
       "0    282686\n",
       "1     24825\n",
       "Name: TARGET, dtype: int64"
      ]
     },
     "execution_count": 55,
     "metadata": {},
     "output_type": "execute_result"
    }
   ],
   "source": [
    "app_train[\"TARGET\"].value_counts()"
   ]
  },
  {
   "cell_type": "code",
   "execution_count": 56,
   "id": "5b07d082",
   "metadata": {},
   "outputs": [
    {
     "data": {
      "text/plain": [
       "<AxesSubplot:ylabel='Frequency'>"
      ]
     },
     "execution_count": 56,
     "metadata": {},
     "output_type": "execute_result"
    },
    {
     "data": {
      "image/png": "[encoded data removed]",
      "text/plain": [
       "<Figure size 432x288 with 1 Axes>"
      ]
     },
     "metadata": {
      "needs_background": "light"
     },
     "output_type": "display_data"
    }
   ],
   "source": [
    "app_train[\"TARGET\"].astype(int).plot.hist()"
   ]
  },
  {
   "cell_type": "markdown",
   "id": "6fbe7aae",
   "metadata": {},
   "source": [
    "이 정보들로부터, 우리는 클래스 불균형을 볼 수 있다. 상환되지 않은 대출보다 저 때 상환된 대출이 훨씬 더 많다. 일단 우리가 더 정교한 기계 학습 모델에 들어가면, 우리는 이런한 불균형을 반영하기 위해 더이터의 표현으로 클래스에 가중치를 부여할 수 있다."
   ]
  },
  {
   "cell_type": "markdown",
   "id": "038fd24c",
   "metadata": {},
   "source": [
    "## 결측치 확인\n",
    "다음으로 우리는 각 컬럼의 결측치의 수와 비율을 확인 할 것이다."
   ]
  },
  {
   "cell_type": "code",
   "execution_count": 57,
   "id": "f7ea7fd1",
   "metadata": {},
   "outputs": [],
   "source": [
    "# Function to calcuate missing values by column# Funct\n",
    "def missing_values_table(df):\n",
    "    # Total missing values\n",
    "    mis_val = df.isnull().sum()\n",
    "    \n",
    "    # Percentage of missing values\n",
    "    mis_val_percent = 100 * df.isnull().sum() / len(df)\n",
    "    \n",
    "    # Make a table with the results\n",
    "    mis_val_table = pd.concat([mis_val, mis_val_percent], axis = 1)\n",
    "    \n",
    "    # Rename the columns\n",
    "    mis_val_table_ren_columns = mis_val_table.rename(\n",
    "    columns = { 0 : \"Missing Values\", 1 : \"% of Total Values\"})\n",
    "    \n",
    "    # Sort the table by percentage of missing descending\n",
    "    mis_val_table_ren_columns = mis_val_table_ren_columns[\n",
    "        mis_val_table_ren_columns.iloc[:,1 ]!=0].sort_values(\n",
    "            \"% of Total Values\", ascending= False).round(1)\n",
    "        \n",
    "        \n",
    "    # Print some summary information\n",
    "    print('Your selected dataframe has ' + str(df.shape[1]) + \"columns.\\n\"\n",
    "         \"There are\" + str(mis_val_table_ren_columns.shape[0]) + \n",
    "         \"columns that have missing values\")\n",
    "    \n",
    "    # Return the dataframe with missing information\n",
    "    return mis_val_table_ren_columns\n"
   ]
  },
  {
   "cell_type": "code",
   "execution_count": 58,
   "id": "e830b225",
   "metadata": {},
   "outputs": [
    {
     "name": "stdout",
     "output_type": "stream",
     "text": [
      "Your selected dataframe has 122columns.\n",
      "There are67columns that have missing values\n"
     ]
    },
    {
     "data": {
      "text/html": [
       "<div>\n",
       "<style scoped>\n",
       "    .dataframe tbody tr th:only-of-type {\n",
       "        vertical-align: middle;\n",
       "    }\n",
       "\n",
       "    .dataframe tbody tr th {\n",
       "        vertical-align: top;\n",
       "    }\n",
       "\n",
       "    .dataframe thead th {\n",
       "        text-align: right;\n",
       "    }\n",
       "</style>\n",
       "<table border=\"1\" class=\"dataframe\">\n",
       "  <thead>\n",
       "    <tr style=\"text-align: right;\">\n",
       "      <th></th>\n",
       "      <th>Missing Values</th>\n",
       "      <th>% of Total Values</th>\n",
       "    </tr>\n",
       "  </thead>\n",
       "  <tbody>\n",
       "    <tr>\n",
       "      <th>COMMONAREA_MEDI</th>\n",
       "      <td>214865</td>\n",
       "      <td>69.9</td>\n",
       "    </tr>\n",
       "    <tr>\n",
       "      <th>COMMONAREA_AVG</th>\n",
       "      <td>214865</td>\n",
       "      <td>69.9</td>\n",
       "    </tr>\n",
       "    <tr>\n",
       "      <th>COMMONAREA_MODE</th>\n",
       "      <td>214865</td>\n",
       "      <td>69.9</td>\n",
       "    </tr>\n",
       "    <tr>\n",
       "      <th>NONLIVINGAPARTMENTS_MEDI</th>\n",
       "      <td>213514</td>\n",
       "      <td>69.4</td>\n",
       "    </tr>\n",
       "    <tr>\n",
       "      <th>NONLIVINGAPARTMENTS_MODE</th>\n",
       "      <td>213514</td>\n",
       "      <td>69.4</td>\n",
       "    </tr>\n",
       "    <tr>\n",
       "      <th>NONLIVINGAPARTMENTS_AVG</th>\n",
       "      <td>213514</td>\n",
       "      <td>69.4</td>\n",
       "    </tr>\n",
       "    <tr>\n",
       "      <th>FONDKAPREMONT_MODE</th>\n",
       "      <td>210295</td>\n",
       "      <td>68.4</td>\n",
       "    </tr>\n",
       "    <tr>\n",
       "      <th>LIVINGAPARTMENTS_MODE</th>\n",
       "      <td>210199</td>\n",
       "      <td>68.4</td>\n",
       "    </tr>\n",
       "    <tr>\n",
       "      <th>LIVINGAPARTMENTS_MEDI</th>\n",
       "      <td>210199</td>\n",
       "      <td>68.4</td>\n",
       "    </tr>\n",
       "    <tr>\n",
       "      <th>LIVINGAPARTMENTS_AVG</th>\n",
       "      <td>210199</td>\n",
       "      <td>68.4</td>\n",
       "    </tr>\n",
       "    <tr>\n",
       "      <th>FLOORSMIN_MODE</th>\n",
       "      <td>208642</td>\n",
       "      <td>67.8</td>\n",
       "    </tr>\n",
       "    <tr>\n",
       "      <th>FLOORSMIN_MEDI</th>\n",
       "      <td>208642</td>\n",
       "      <td>67.8</td>\n",
       "    </tr>\n",
       "    <tr>\n",
       "      <th>FLOORSMIN_AVG</th>\n",
       "      <td>208642</td>\n",
       "      <td>67.8</td>\n",
       "    </tr>\n",
       "    <tr>\n",
       "      <th>YEARS_BUILD_MODE</th>\n",
       "      <td>204488</td>\n",
       "      <td>66.5</td>\n",
       "    </tr>\n",
       "    <tr>\n",
       "      <th>YEARS_BUILD_MEDI</th>\n",
       "      <td>204488</td>\n",
       "      <td>66.5</td>\n",
       "    </tr>\n",
       "    <tr>\n",
       "      <th>YEARS_BUILD_AVG</th>\n",
       "      <td>204488</td>\n",
       "      <td>66.5</td>\n",
       "    </tr>\n",
       "    <tr>\n",
       "      <th>OWN_CAR_AGE</th>\n",
       "      <td>202929</td>\n",
       "      <td>66.0</td>\n",
       "    </tr>\n",
       "    <tr>\n",
       "      <th>LANDAREA_AVG</th>\n",
       "      <td>182590</td>\n",
       "      <td>59.4</td>\n",
       "    </tr>\n",
       "    <tr>\n",
       "      <th>LANDAREA_MEDI</th>\n",
       "      <td>182590</td>\n",
       "      <td>59.4</td>\n",
       "    </tr>\n",
       "    <tr>\n",
       "      <th>LANDAREA_MODE</th>\n",
       "      <td>182590</td>\n",
       "      <td>59.4</td>\n",
       "    </tr>\n",
       "  </tbody>\n",
       "</table>\n",
       "</div>"
      ],
      "text/plain": [
       "                          Missing Values  % of Total Values\n",
       "COMMONAREA_MEDI                   214865               69.9\n",
       "COMMONAREA_AVG                    214865               69.9\n",
       "COMMONAREA_MODE                   214865               69.9\n",
       "NONLIVINGAPARTMENTS_MEDI          213514               69.4\n",
       "NONLIVINGAPARTMENTS_MODE          213514               69.4\n",
       "NONLIVINGAPARTMENTS_AVG           213514               69.4\n",
       "FONDKAPREMONT_MODE                210295               68.4\n",
       "LIVINGAPARTMENTS_MODE             210199               68.4\n",
       "LIVINGAPARTMENTS_MEDI             210199               68.4\n",
       "LIVINGAPARTMENTS_AVG              210199               68.4\n",
       "FLOORSMIN_MODE                    208642               67.8\n",
       "FLOORSMIN_MEDI                    208642               67.8\n",
       "FLOORSMIN_AVG                     208642               67.8\n",
       "YEARS_BUILD_MODE                  204488               66.5\n",
       "YEARS_BUILD_MEDI                  204488               66.5\n",
       "YEARS_BUILD_AVG                   204488               66.5\n",
       "OWN_CAR_AGE                       202929               66.0\n",
       "LANDAREA_AVG                      182590               59.4\n",
       "LANDAREA_MEDI                     182590               59.4\n",
       "LANDAREA_MODE                     182590               59.4"
      ]
     },
     "execution_count": 58,
     "metadata": {},
     "output_type": "execute_result"
    }
   ],
   "source": [
    "# Missing values statistics\n",
    "missing_values = missing_values_table(app_train)\n",
    "missing_values.head(20)"
   ]
  },
  {
   "cell_type": "markdown",
   "id": "e902fb7a",
   "metadata": {},
   "source": [
    "기계학습 모델을 구축할 때가 되면, 우리는 이런한 누락된 값(계산으로 알려주는)을 채워야할 것이다. 이후 작업에서, 우리는 전가할 필요 없이 누락도니 값을 처리할 수 있는 SGBoost와 같은 모델을 사용할 것이다. 또 다른 옵션은 누락된 값을 비율이 높은 열을 삭제하는 것이지만, 이러한 열이 우리 모델에 도움이 돌지 미리 아는 것은 불가능하다. 그러므로, 우리는 당분간 모든 컬럼을 유지할 것입니다."
   ]
  },
  {
   "cell_type": "markdown",
   "id": "f49b39eb",
   "metadata": {},
   "source": [
    "## Column Types"
   ]
  },
  {
   "cell_type": "markdown",
   "id": "c1e30659",
   "metadata": {},
   "source": [
    "각 데이터 유형의 열 수를 살펴보겠습니다.\n",
    "int64 와 float64는 숫자 변수(이산적이거나 연속적일 수도 있음)입니다. \n",
    "격체 열은 문자열을 포함하고 범주형 특징입니다."
   ]
  },
  {
   "cell_type": "code",
   "execution_count": 59,
   "id": "a369e51d",
   "metadata": {},
   "outputs": [
    {
     "data": {
      "text/plain": [
       "float64    65\n",
       "int64      41\n",
       "object     16\n",
       "dtype: int64"
      ]
     },
     "execution_count": 59,
     "metadata": {},
     "output_type": "execute_result"
    }
   ],
   "source": [
    "# Number of each type of column\n",
    "app_train.dtypes.value_counts()"
   ]
  },
  {
   "cell_type": "code",
   "execution_count": 60,
   "id": "7fdc2f03",
   "metadata": {},
   "outputs": [
    {
     "data": {
      "text/plain": [
       "1"
      ]
     },
     "execution_count": 60,
     "metadata": {},
     "output_type": "execute_result"
    }
   ],
   "source": [
    "list(app_train.columns).index('TARGET')"
   ]
  },
  {
   "cell_type": "markdown",
   "id": "02596d9a",
   "metadata": {},
   "source": [
    "object 타입(범주형) 컬럼들의 유일값 수를 확인해보자."
   ]
  },
  {
   "cell_type": "code",
   "execution_count": 61,
   "id": "a0e6329b",
   "metadata": {},
   "outputs": [
    {
     "data": {
      "text/plain": [
       "NAME_CONTRACT_TYPE             2\n",
       "CODE_GENDER                    3\n",
       "FLAG_OWN_CAR                   2\n",
       "FLAG_OWN_REALTY                2\n",
       "NAME_TYPE_SUITE                7\n",
       "NAME_INCOME_TYPE               8\n",
       "NAME_EDUCATION_TYPE            5\n",
       "NAME_FAMILY_STATUS             6\n",
       "NAME_HOUSING_TYPE              6\n",
       "OCCUPATION_TYPE               18\n",
       "WEEKDAY_APPR_PROCESS_START     7\n",
       "ORGANIZATION_TYPE             58\n",
       "FONDKAPREMONT_MODE             4\n",
       "HOUSETYPE_MODE                 3\n",
       "WALLSMATERIAL_MODE             7\n",
       "EMERGENCYSTATE_MODE            2\n",
       "dtype: int64"
      ]
     },
     "execution_count": 61,
     "metadata": {},
     "output_type": "execute_result"
    }
   ],
   "source": [
    "# Number of unique classes in each object column\n",
    "app_train.select_dtypes('object').apply(pd.Series.nunique, axis = 0)"
   ]
  },
  {
   "cell_type": "markdown",
   "id": "0688e962",
   "metadata": {},
   "source": [
    "대부분의 범주형 변수들은 매우 적은 유일값 수를 가지고 있습니다. 우리는 이런 범두형 변수를 다루는 방법을 찾을 필요가 있습니다."
   ]
  },
  {
   "cell_type": "markdown",
   "id": "c5dc989b",
   "metadata": {},
   "source": [
    "# Encoding Categorical Variables\n",
    "우리가 더 나아가기 전에, 우리는 성가신 범주형 변수를 다룰 필요가 있다. 불행히도 기계 학습 모델은 범주형 변수를 처리할 수 없습니다.(LightGBM과 같은 일부 모델 제외) \n",
    "따라서, 우리는 이 변수들을 모델에 넘겨주기 ㄱ전에 숫자로 인코딩(표현)하는 방법을 찾아야한다. 이 과정을 수행하는 두가지 주요 방법이 있습니다.\n",
    "\n",
    "- 1) 라벨 인코딩 : 정수로 범주형 변수의 각 고유한 범주를 할당합니다. 새로운 열은 생성되지 않습니다.\n",
    "- 2) 원핫 인코딩 : 범주형 변수의 각 고유한 범주에 대한 새 열을 만드세요. 각 관찰은 해당 범주에 대해 열에서 1을 받고 다른 모든 새로운 열에서 0을 받는다."
   ]
  },
  {
   "cell_type": "markdown",
   "id": "6159c558",
   "metadata": {},
   "source": [
    "라벨 인코딩의 문제는 카테고리에 임의의 순서를 제공한다는 것입니다. 각 범주에 할당된 값은 무작위이며 범주의 고유한 측면은 반영하지 않습니다. 위의 예에서 프로그래머는 4를 받고 데이터 과학자는 1을 받았지만, 우리가 같은 과정을 다시 한다면, 라벨은 뒤집히거나 완전히 다를 수 있습니다. 정수의 실제 할당은 임의적입니다. 따라서, 우리가 라벨 인코딩을 수행할 때, 모델은 우리가 원하는 것이 아닌 가중치를 할당하기 위해 기능의 상대적 값(예 : 프로그래머 = 4 및 데이터 과학자 = 1)을 사용할 수 있습니다. 범주형 변수(예 : 남성/여성)에 대해 두 개의 고유한 값만 있다면, 라벨 인코딩은 괜찮지만, 2개 이상의 고유한 범주의 경우, 하나의 핫 인코딩이 안전한 옵션입니다."
   ]
  },
  {
   "cell_type": "markdown",
   "id": "fb3f041d",
   "metadata": {},
   "source": [
    "이러한 접근 방식의 상대적인 장점에 대한 논쟁이 있으며, 일부 모델은 문제 없이 라벨로 인코딩된 범주형 변수를 다룰 수 있습니다. 개인적인 의견이지만 많은 클래스를 가진 범주형 변수에 대해, 원핫 인코딩은 범주에 임의의 값을 부과하지 않기 때문에 가장 안전한 접근 방식이라고 생각한다. 원핫 인코딩의 유일한 단점은 기능의 수(데이터의 차원)가 많은 범주의 범주형 변수로 폭발할 수 있다는 것이다. 이를 처리하기 위해, 우리는 (여전히 정보를 보존하려고 노력하면서) 차원의 수를 줄이기 위해 PCA 또는 다른 차원 감소 방법에 이어 하나의 핫 인코딩을 수행할 수 있습니다."
   ]
  },
  {
   "cell_type": "markdown",
   "id": "50ce4f76",
   "metadata": {},
   "source": [
    "이 노트북에서, 우리는 2개 이상의 범주형 변수에 대해 라벨 인코딩을 사용하고 2개의 범주형 변수에 대해 원핫 인코딩을 사용할 것이빈다. 이 과정은 우리가 프로젝트에 더 깊이 들어가면서 바뀌어야 할 수도 있지만, 현재로서는 이것이 우리를 어디로 데려가는지 보게 될 것이다.\n",
    "(우리는 또한 이 노트북에서 차원 감소를 사용할지 않을 것이지만 향후 반복에서 사용할 것입니다.)"
   ]
  },
  {
   "cell_type": "markdown",
   "id": "dc8ef0b4",
   "metadata": {},
   "source": [
    "## Label Encoding and One-Hot Encoding\n",
    "위에서 설명했던 것들을 구현해 봅시다. : 2개의 고유한 범주를 가진 범주형 변수(dtypes == object)의 경우, 우리는 라벨 인코딩을 사용할 것이며, 2개이상의 고유한 범주를 가진 범주형 변수의 경우, 우리는 원핫 인코딩을 사용할 것입니다. "
   ]
  },
  {
   "cell_type": "markdown",
   "id": "ff3413b9",
   "metadata": {},
   "source": [
    "라벨 인코딩을 위해, 우리는 Scikit-Learn LabelEncoder를 사용하고 원핫 인코딩을 위해 pandas get_dummies(df) 함수를 사용할 것입니다."
   ]
  },
  {
   "cell_type": "code",
   "execution_count": 62,
   "id": "61ee5931",
   "metadata": {},
   "outputs": [
    {
     "name": "stdout",
     "output_type": "stream",
     "text": [
      "3 columns were label encoded.\n"
     ]
    }
   ],
   "source": [
    "#Create a label encoder object\n",
    "le = LabelEncoder()\n",
    "le_count = 0\n",
    "\n",
    "# Iterate through the columns\n",
    "for col in app_train :\n",
    "    if app_train[col].dtype == \"object\":\n",
    "        # if 2 of fewer unique categories\n",
    "        if len(list(app_train[col].unique())) <=2 :\n",
    "            le.fit(app_train[col])\n",
    "            #Transform both training and testing data\n",
    "            app_train[col] = le.transform(app_train[col])\n",
    "            app_test[col] = le.transform(app_test[col])\n",
    "\n",
    "            # keep track of how many columns were label encoded\n",
    "            le_count += 1\n",
    "        \n",
    "print(\"%d columns were label encoded.\"%le_count)"
   ]
  },
  {
   "cell_type": "code",
   "execution_count": 63,
   "id": "ebd18a7b",
   "metadata": {},
   "outputs": [
    {
     "data": {
      "text/plain": [
       "1"
      ]
     },
     "execution_count": 63,
     "metadata": {},
     "output_type": "execute_result"
    }
   ],
   "source": [
    "list(app_train.columns).index('TARGET')"
   ]
  },
  {
   "cell_type": "code",
   "execution_count": 64,
   "id": "5467351f",
   "metadata": {},
   "outputs": [
    {
     "name": "stdout",
     "output_type": "stream",
     "text": [
      "Training Feature shape:  (307511, 243)\n",
      "Testing Feature shape:  (48744, 239)\n"
     ]
    }
   ],
   "source": [
    "# one-hot encoding of categorical variables\n",
    "app_train = pd.get_dummies(app_train)\n",
    "app_test = pd.get_dummies(app_test)\n",
    "\n",
    "print('Training Feature shape: ', app_train.shape)\n",
    "print('Testing Feature shape: ', app_test.shape)"
   ]
  },
  {
   "cell_type": "code",
   "execution_count": 65,
   "id": "471e5b28",
   "metadata": {},
   "outputs": [
    {
     "data": {
      "text/plain": [
       "1"
      ]
     },
     "execution_count": 65,
     "metadata": {},
     "output_type": "execute_result"
    }
   ],
   "source": [
    "list(app_train.columns).index('TARGET')"
   ]
  },
  {
   "cell_type": "markdown",
   "id": "0eb23bf1",
   "metadata": {},
   "source": [
    "## Aligning Training and Testing Data\n",
    "훈련과 테스트 데이터 모두에 동일한 기능(열)이 있어야 합니다. 원 핫 인코딩은 테스트 데이터에 표시되지 않는 범주형 변수가 있었기 때문에 훈련 데이터에 더 많은 열을 만들었습니다. 테스트 데이터에 없는 훈련 데이터의 열을 제거하려면 데이터 프레임을 정렬해야합니다. 먼저 우리는 훈련 데이터에서 대상 열을 추출합니다.(이것은 테스트 데이터에 없지만 이 정보를 유지해야 하기 떄문입니다.) 정렬을 할 때, 행이 아닌 열을 기반으로 데이터 프레임을 정렬을 할 때, 행이 아닌 열을 기반을 데이터 프레임을 정렬하기 위해 축 =1을 설정해야합니다."
   ]
  },
  {
   "cell_type": "code",
   "execution_count": 66,
   "id": "ed986375",
   "metadata": {},
   "outputs": [
    {
     "name": "stdout",
     "output_type": "stream",
     "text": [
      "Training Features shape :  (307511, 240)\n",
      "Testing Features shape :  (48744, 239)\n"
     ]
    }
   ],
   "source": [
    "train_labels = app_train[\"TARGET\"]\n",
    "\n",
    "#Align the training and testing data, keep data, keep only columns present in both dataframes\n",
    "app_train, app_test = app_train.align(app_test, join = \"inner\", axis = 1)\n",
    "\n",
    "# Add teh target back in\n",
    "app_train['TARGET'] = train_labels\n",
    "\n",
    "print('Training Features shape : ', app_train.shape)\n",
    "print('Testing Features shape : ', app_test.shape)\n"
   ]
  },
  {
   "cell_type": "markdown",
   "id": "c451941c",
   "metadata": {},
   "source": [
    "훈련 및 테스트 데이터 세트는 이제 기계학습에 필요한 것과 동일한 기능을 가지고 있다. 원 핫 인코딩으로 인해 기능의 수가 크게 증가했다. 어느 시점에서 우리는 아마도 데이터 세트의 크기를 줄이기 위해 차원감소(관련되지 않은 기능 제거)를 시도하고 싶을 것입니다."
   ]
  },
  {
   "cell_type": "markdown",
   "id": "d51017bf",
   "metadata": {},
   "source": [
    "# Back to Exploratory Data Analysis"
   ]
  },
  {
   "cell_type": "markdown",
   "id": "0b4b069c",
   "metadata": {},
   "source": [
    "## Anomailes(변칙)\n",
    "EDA를 할 때 우리가 항상 경계하고 싶은 한가지 문제는 데이터 내의 이상치이다.\n",
    "이것들은 잘못 입력된 숫자, 측정 장비의 오류 때문일 수도 있고, 유효하지만, 극단적인 측정일 수도 있다. 이상을 정략적으로 지원하는 한 가지 방법은 설명 방법을 상요하여 열의 통계를 보는 것이다.\n",
    "DAYS_BIRTH 열의 숫자는 현재 대출 신청서와 관련하여 기록되기 떄문에 음수 입니다. 몇 년동안 이러한 통계를 보기 우해, 우리는 -1로 숫자를 곱하고 한 해의 일 수로 나눌 수 있습니다."
   ]
  },
  {
   "cell_type": "code",
   "execution_count": 70,
   "id": "72e638b3",
   "metadata": {},
   "outputs": [
    {
     "data": {
      "text/plain": [
       "count    307511.000000\n",
       "mean         43.936973\n",
       "std          11.956133\n",
       "min          20.517808\n",
       "25%          34.008219\n",
       "50%          43.150685\n",
       "75%          53.923288\n",
       "max          69.120548\n",
       "Name: DAYS_BIRTH, dtype: float64"
      ]
     },
     "execution_count": 70,
     "metadata": {},
     "output_type": "execute_result"
    }
   ],
   "source": [
    "(app_train[\"DAYS_BIRTH\"] / -365).describe()"
   ]
  },
  {
   "cell_type": "markdown",
   "id": "146dd5f0",
   "metadata": {},
   "source": [
    "그 나이들은 합리적으로 보인다. 하이 엔드나 로우 엔트의 나이에 대한 이상값은 없다. 고용일은 어떠한가?"
   ]
  },
  {
   "cell_type": "code",
   "execution_count": 71,
   "id": "da042f0a",
   "metadata": {},
   "outputs": [
    {
     "data": {
      "text/plain": [
       "count    307511.000000\n",
       "mean      63815.045904\n",
       "std      141275.766519\n",
       "min      -17912.000000\n",
       "25%       -2760.000000\n",
       "50%       -1213.000000\n",
       "75%        -289.000000\n",
       "max      365243.000000\n",
       "Name: DAYS_EMPLOYED, dtype: float64"
      ]
     },
     "execution_count": 71,
     "metadata": {},
     "output_type": "execute_result"
    }
   ],
   "source": [
    "app_train[\"DAYS_EMPLOYED\"].describe()"
   ]
  },
  {
   "cell_type": "markdown",
   "id": "ac35471f",
   "metadata": {},
   "source": []
  },
  {
   "cell_type": "markdown",
   "id": "cc2363cf",
   "metadata": {},
   "source": [
    "이것은 옳지 않아보인다. 최대 가치는(긍적인 것 외에) 약 1000년이다."
   ]
  },
  {
   "cell_type": "code",
   "execution_count": 73,
   "id": "04f96b05",
   "metadata": {},
   "outputs": [
    {
     "data": {
      "image/png": "[encoded data removed]",
      "text/plain": [
       "<Figure size 432x288 with 1 Axes>"
      ]
     },
     "metadata": {
      "needs_background": "light"
     },
     "output_type": "display_data"
    }
   ],
   "source": [
    "app_train[\"DAYS_EMPLOYED\"].plot.hist(title = \"Days Employment Histogram\");\n",
    "plt.xlabel(\"Days Employment\");"
   ]
  },
  {
   "cell_type": "markdown",
   "id": "297b3eb7",
   "metadata": {},
   "source": [
    "가볍게, 변칙적인 고객을 하위 집합하고 그들이 나머지 고객들보다 더 높거나 낮은 채무 불이행률을 보이는 경향이 있는지 봅시다."
   ]
  },
  {
   "cell_type": "code",
   "execution_count": 76,
   "id": "612a4995",
   "metadata": {},
   "outputs": [
    {
     "name": "stdout",
     "output_type": "stream",
     "text": [
      "The non-anomalies default on 8.07% of loans\n",
      "The anomalies default on nan% of loans\n",
      "There are 0 anomalous days of employment\n"
     ]
    }
   ],
   "source": [
    "anom = app_train[app_train[\"DAYS_EMPLOYED\"] == 365243]\n",
    "non_anom = app_train[app_train[\"DAYS_EMPLOYED\"] != 365243]\n",
    "print('The non-anomalies default on %0.2f%% of loans'%(100* non_anom[\"TARGET\"].mean()))\n",
    "print('The anomalies default on %0.2f%% of loans'%(100* anom[\"TARGET\"].mean()))\n",
    "print('There are %d anomalous days of employment'%len(anom))"
   ]
  },
  {
   "cell_type": "markdown",
   "id": "b16b6eb7",
   "metadata": {},
   "source": [
    "역시 흥미롭습니다. 변칙적인 고객이 채무 불이행률이 더 낮다는 것이 밝혀졌습니다."
   ]
  },
  {
   "cell_type": "markdown",
   "id": "70b7cffc",
   "metadata": {},
   "source": [
    "변칙을 처리하는 것은 정해진 규칙 없이 정확한 상황에 달려 있습니다. 가장 안전한 방법 중 하나는 변칙을 누락된 값으로 설정한 다음 기계 학습 전에 (전산을 사용하여) 작성하는 것입니다. 이 경우, 모든 변칙이 정확히 같은 값을 가지고 있기 때문에, 우리는 이러한 모든 대출이 공통점을 공유할 경우를 대비하여 동이한 값으로 채우고 싶습니다. 변칙적인 값은 어느 정도 중요한 것 같기 때문에 우리가 실제로 이러한 값을 채웠다면 기계 학습 모델을 말하고 싶습니다. 해결책으로, 우리는 숫자(np.nan)가 아닌 변칙적인 값을 채운 다음 값이 변칙적인지 여부를 나타내는 새로운 불리언 열을 만들것입니다."
   ]
  },
  {
   "cell_type": "code",
   "execution_count": 77,
   "id": "3ac42695",
   "metadata": {},
   "outputs": [
    {
     "data": {
      "image/png": "[encoded data removed]",
      "text/plain": [
       "<Figure size 432x288 with 1 Axes>"
      ]
     },
     "metadata": {
      "needs_background": "light"
     },
     "output_type": "display_data"
    }
   ],
   "source": [
    "# Create an anomalous flag column\n",
    "app_train[\"DAYS_EMPLOYED_ANOM\"] = app_train[\"DAYS_EMPLOYED\"] == 365243\n",
    "\n",
    "# Replace the anomalous values with nan\n",
    "app_train[\"DAYS_EMPLOYED\"].replace({365243:np.nan}, inplace = True)\n",
    "\n",
    "app_train[\"DAYS_EMPLOYED\"].plot.hist(title = \"Days Employment Histogram\");\n",
    "plt.xlabel(\"Days Employment\");"
   ]
  },
  {
   "cell_type": "markdown",
   "id": "f3b7dff7",
   "metadata": {},
   "source": [
    "분포는 우리가 기대하는 것과 훨씬 더 일치하는 것으로 보이며, 우리는 또한 이러한 값이 원래 변칙적이라는 것을 원래 변칙적이라는 것을 모델에 알리기 위해 새로운 열을 만들었습니다.(우리는 nans로 일부값을 채우고, 아마도 열의 중앙값으로 채워야 하기 때문이다.) 데이터 프레임에 DAYS가 있는 다른 열들은 명백한 이상치 없이 우리가 기대하는 것에 관한 것으로 보인다. "
   ]
  },
  {
   "cell_type": "markdown",
   "id": "4cd4b1df",
   "metadata": {},
   "source": [
    "매우 중요한 것은, 우리가 훈련 데이터에 대해 하는 모든 것은 테스트 데이터에 대해서도 해야한다. 새 열을 만들고 테스트 데이터에서 np.nan.으로 기존 열을 채우도록 합니다."
   ]
  },
  {
   "cell_type": "code",
   "execution_count": 78,
   "id": "24ce8dbd",
   "metadata": {},
   "outputs": [
    {
     "name": "stdout",
     "output_type": "stream",
     "text": [
      "There are 9274 anomalies in the test data out of 48744 entries\n"
     ]
    }
   ],
   "source": [
    "app_test[\"DAYS_EMPLOYED_ANOM\"] = app_test[\"DAYS_EMPLOYED\"] == 365243\n",
    "app_test[\"DAYS_EMPLOYED\"].replace({365243 : np.nan}, inplace = True)\n",
    "\n",
    "print('There are %d anomalies in the test data out of %d entries'%(app_test[\"DAYS_EMPLOYED_ANOM\"].sum(), len(app_test)))\n",
    "      "
   ]
  },
  {
   "cell_type": "markdown",
   "id": "ac3b476e",
   "metadata": {},
   "source": [
    "## Correlations\n",
    "이제 범주형 변수와 이상값을 다뤘으니, EDA를 계속해 봅시다. 데이터를 시도하고 이해하는 한가지 방법은 기능과 대상 사이의 상관관계를 찾는 것입니다. .corr 데이터 프레임 방법을 사용하여 모든 변수와 대상 사이의 피어슨 상관 계수를 계산할 수 있습니다."
   ]
  },
  {
   "cell_type": "markdown",
   "id": "9b16f337",
   "metadata": {},
   "source": [
    "상관계수는 특징의 \"관련성\"을 나타내는 가장 큰 방법은 아니지만, 데이터 내에서 가능한 관계에 대한 아이디어를 제공합니다.\n",
    "상관관계의 절대값에 대한 몇 가지 일반적인 해석은 다음과 같다 :\n",
    "- .00 - 0.19 \"매우 약함\"\n",
    "- 0.20 - 0.39 \"약함\"\n",
    "- 0.40 - 0.59 \"보통\"\n",
    "- 0.60 - 0.79 \"강함\"\n",
    "- 0.80 - 1.0 \"매우 강함\""
   ]
  },
  {
   "cell_type": "code",
   "execution_count": 80,
   "id": "c8cc6056",
   "metadata": {},
   "outputs": [
    {
     "name": "stdout",
     "output_type": "stream",
     "text": [
      "Most Positivie Correlations : \n",
      " FLAG_DOCUMENT_3                                      0.044346\n",
      "REG_CITY_NOT_LIVE_CITY                               0.044395\n",
      "FLAG_EMP_PHONE                                       0.045982\n",
      "NAME_EDUCATION_TYPE_Secondary / secondary special    0.049824\n",
      "REG_CITY_NOT_WORK_CITY                               0.050994\n",
      "DAYS_ID_PUBLISH                                      0.051457\n",
      "CODE_GENDER_M                                        0.054713\n",
      "DAYS_LAST_PHONE_CHANGE                               0.055218\n",
      "NAME_INCOME_TYPE_Working                             0.057481\n",
      "REGION_RATING_CLIENT                                 0.058899\n",
      "REGION_RATING_CLIENT_W_CITY                          0.060893\n",
      "DAYS_EMPLOYED                                        0.074958\n",
      "DAYS_BIRTH                                           0.078239\n",
      "TARGET                                               1.000000\n",
      "DAYS_EMPLOYED_ANOM                                        NaN\n",
      "Name: TARGET, dtype: float64\n",
      "\n",
      "Most Negative Correlations : \n",
      " EXT_SOURCE_3                           -0.178919\n",
      "EXT_SOURCE_2                           -0.160472\n",
      "EXT_SOURCE_1                           -0.155317\n",
      "NAME_EDUCATION_TYPE_Higher education   -0.056593\n",
      "CODE_GENDER_F                          -0.054704\n",
      "NAME_INCOME_TYPE_Pensioner             -0.046209\n",
      "ORGANIZATION_TYPE_XNA                  -0.045987\n",
      "FLOORSMAX_AVG                          -0.044003\n",
      "FLOORSMAX_MEDI                         -0.043768\n",
      "FLOORSMAX_MODE                         -0.043226\n",
      "EMERGENCYSTATE_MODE_No                 -0.042201\n",
      "HOUSETYPE_MODE_block of flats          -0.040594\n",
      "AMT_GOODS_PRICE                        -0.039645\n",
      "REGION_POPULATION_RELATIVE             -0.037227\n",
      "ELEVATORS_AVG                          -0.034199\n",
      "Name: TARGET, dtype: float64\n"
     ]
    }
   ],
   "source": [
    "# Find correlations with the target and sort\n",
    "correlations = app_train.corr()[\"TARGET\"].sort_values()\n",
    "\n",
    "# Display correlations\n",
    "print('Most Positivie Correlations : \\n', correlations.tail(15))\n",
    "print(\"\\nMost Negative Correlations : \\n\", correlations.head(15))"
   ]
  },
  {
   "cell_type": "markdown",
   "id": "267cc993",
   "metadata": {},
   "source": [
    "좀 더 중요한 상관관계를 살펴봅시다 :\n",
    "DAYS_BIRTH는 가장 긍정적인 상관관계입니다.(변수와 그 자체의 상관관게는 항상 1이기 떄문에 TARGET을 제외하고) 문서를 보면, DAYS_BIRTH는 대출 당시 부정적인 날의 고객의 나이입니다.(어떤 이유에서든!) 상관관계는 긍정적이지만, 이 기능의 가치는 실제로 부정적이며, 이는 고객의 나이가 들어감에 따라 대출을 불이행할 가능성이 적다는 것을 의미합니다.(즉, 목표 == 0) 그것은 조금 혼란스럽기 때문에, 우리는 그 기능의 절대값을 취할 것이고 상관관계는 음수가 될 것입니다."
   ]
  },
  {
   "cell_type": "markdown",
   "id": "e983e891",
   "metadata": {},
   "source": [
    "## Effect of Age on Repayment"
   ]
  },
  {
   "cell_type": "code",
   "execution_count": 82,
   "id": "fc2d6c24",
   "metadata": {},
   "outputs": [
    {
     "data": {
      "text/plain": [
       "-0.07823930830982737"
      ]
     },
     "execution_count": 82,
     "metadata": {},
     "output_type": "execute_result"
    }
   ],
   "source": [
    "# Find the correlation of the positive days since birth and target\n",
    "app_train[\"DAYS_BIRTH\"] = abs(app_train[\"DAYS_BIRTH\"])\n",
    "app_train[\"DAYS_BIRTH\"].corr(app_train[\"TARGET\"])"
   ]
  },
  {
   "cell_type": "markdown",
   "id": "68e787b0",
   "metadata": {},
   "source": [
    "고객이 나이가 드렁감에 따라, 목표가 부정적인 선형 관계가 있는데, 이는 고객이 나이가 들어감에 따라 대출을 더 자주 상환하는 경향이 있다는 것을 의미한다."
   ]
  },
  {
   "cell_type": "markdown",
   "id": "757bcc15",
   "metadata": {},
   "source": [
    "이 변수를 살펴보기 시작합니다. 먼저, 우리는 나이의 히스토그램을 만들 수 있다. 우리는 그래프를 더 이해할 수 있도록 x축을 넣을 것이다."
   ]
  },
  {
   "cell_type": "code",
   "execution_count": 83,
   "id": "07e9c89c",
   "metadata": {},
   "outputs": [
    {
     "data": {
      "text/plain": [
       "Text(0, 0.5, 'Count')"
      ]
     },
     "execution_count": 83,
     "metadata": {},
     "output_type": "execute_result"
    },
    {
     "data": {
      "image/png": "[encoded data removed]",
      "text/plain": [
       "<Figure size 432x288 with 1 Axes>"
      ]
     },
     "metadata": {},
     "output_type": "display_data"
    }
   ],
   "source": [
    "#Set teh style of plots\n",
    "plt.style.use('fivethirtyeight')\n",
    "\n",
    "# Plot the distribution of ages in years\n",
    "plt.hist(app_train[\"DAYS_BIRTH\"]/ 265, edgecolor = 'k', bins = 25)\n",
    "plt.title(\"Age of Client\"); \n",
    "plt.xlabel(\"Age(years)\")\n",
    "plt.ylabel(\"Count\")"
   ]
  },
  {
   "cell_type": "markdown",
   "id": "bfddf9ac",
   "metadata": {},
   "source": [
    "그 자체로, 나이의분포는 모든 연령대가 합리적이기 때문에 이상값이 없다느 ㄴ것 외에는 우리가 많은 것을 말해주지 않는다. 목표가 목표에 미치는 영향을 시각화하기 위해, 우리는 다음으로 목표의 값을 색칠된 커널 밀도 추정 플롯(KDE)을 만들 것이다. 커널 밀도 추정 플롯은 단일 변수의 분포를 부여주며 평활화된 히스토그램으로 생각할 수 있다(각 데이터 지점에서 커널, 보통 가우스를 계산한 다음 모든 개별 커널을 평균하여 단일 매끄러운 곡선을 개발함으로써 생성된다.) 우리는 이 그래프에 seaborn kdeplot을 사용할 것이다."
   ]
  },
  {
   "cell_type": "code",
   "execution_count": 84,
   "id": "4d688eb6",
   "metadata": {},
   "outputs": [
    {
     "data": {
      "text/plain": [
       "Text(0.5, 1.0, 'Distrubution of Ages')"
      ]
     },
     "execution_count": 84,
     "metadata": {},
     "output_type": "execute_result"
    },
    {
     "data": {
      "image/png": "[encoded data removed]",
      "text/plain": [
       "<Figure size 720x576 with 1 Axes>"
      ]
     },
     "metadata": {},
     "output_type": "display_data"
    }
   ],
   "source": [
    "plt.figure(figsize = (10,8))\n",
    "\n",
    "# KDE plot of loans that were repaid on time\n",
    "sns.kdeplot(app_train.loc[app_train[\"TARGET\"] == 0 , \"DAYS_BIRTH\"]/365, label = \"target == 0\")\n",
    "\n",
    "#KDE plot of loans which were not repaid on time\n",
    "sns.kdeplot(app_train.loc[app_train[\"TARGET\"] == 1 , \"DAYS_BIRTH\"]/365, label = \"target == 1\")\n",
    "\n",
    "#Labeling of plot\n",
    "plt.xlabel('Age (years)'); plt.ylabel(\"Density\"); plt.title(\"Distrubution of Ages\")"
   ]
  },
  {
   "cell_type": "markdown",
   "id": "a30ca068",
   "metadata": {},
   "source": [
    "목표 == 1 곡선은 범위의 끝이 더 젊은 쪽을 향해 있다. 이것은 중요한 상관관계(-0.07 상관계수)는 아니지만, 이 변수는 대상에 영향을 미치기 떄무넹 기계 학습 모델에 유용할 것이다. 이 관계를 다른 방식으로 살펴봅시다 : 연령대별 대출 상환의 평균 실패"
   ]
  },
  {
   "cell_type": "markdown",
   "id": "0aa91de8",
   "metadata": {},
   "source": [
    "이 그래프를 만들기 위해, 먼저 윌는 연령 범주를 각각 5년의 bins로 줄였다. 그런 다음, 각 bins에 대해 우리는 목표의 평균 가치를 계산하며, 이는 각 연령 범주에서 상환되지 않은 대출의 비율을 알려줍니다.\n"
   ]
  },
  {
   "cell_type": "code",
   "execution_count": null,
   "id": "25b4d4a3",
   "metadata": {},
   "outputs": [],
   "source": [
    "# Age imformation into a separate dataframe\n",
    "age_data = app_train"
   ]
  }
 ],
 "metadata": {
  "kernelspec": {
   "display_name": "Python 3 (ipykernel)",
   "language": "python",
   "name": "python3"
  },
  "language_info": {
   "codemirror_mode": {
    "name": "ipython",
    "version": 3
   },
   "file_extension": ".py",
   "mimetype": "text/x-python",
   "name": "python",
   "nbconvert_exporter": "python",
   "pygments_lexer": "ipython3",
   "version": "3.9.12"
  },
  "toc": {
   "base_numbering": 1,
   "nav_menu": {},
   "number_sections": true,
   "sideBar": true,
   "skip_h1_title": false,
   "title_cell": "Table of Contents",
   "title_sidebar": "Contents",
   "toc_cell": false,
   "toc_position": {},
   "toc_section_display": true,
   "toc_window_display": true
  }
 },
 "nbformat": 4,
 "nbformat_minor": 5
}
